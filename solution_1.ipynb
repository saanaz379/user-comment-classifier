{
  "nbformat": 4,
  "nbformat_minor": 0,
  "metadata": {
    "colab": {
      "name": "solution_1.ipynb",
      "provenance": [],
      "mount_file_id": "1bxORvyD4WzI4QROIPg9GQ-Jx94-_2nCo",
      "authorship_tag": "ABX9TyPB51gi/fsSjuyeSyGKs5Lm",
      "include_colab_link": true
    },
    "kernelspec": {
      "name": "python3",
      "display_name": "Python 3"
    },
    "language_info": {
      "name": "python"
    }
  },
  "cells": [
    {
      "cell_type": "markdown",
      "metadata": {
        "id": "view-in-github",
        "colab_type": "text"
      },
      "source": [
        "<a href=\"https://colab.research.google.com/github/saanaz379/user-comment-classifier/blob/main/solution_1.ipynb\" target=\"_parent\"><img src=\"https://colab.research.google.com/assets/colab-badge.svg\" alt=\"Open In Colab\"/></a>"
      ]
    },
    {
      "cell_type": "markdown",
      "source": [
        "This is the first of three solutions to identify offensive language or hate speech in a set of user comments. The code is tested on actual data provided from a day's user comments. This solution utilizes a dictionary that stores all common offensive words and identifies them in any given review, which is then flagged for review. The dictionary is extracted from a Kaggle dataset of offensive tweets.\n",
        "\n",
        "*Note: This code is incapable of detecting sentence patterns that may predict hate speech."
      ],
      "metadata": {
        "id": "WWOymnDrnMh1"
      }
    },
    {
      "cell_type": "code",
      "source": [
        "! pip install nltk"
      ],
      "metadata": {
        "colab": {
          "base_uri": "https://localhost:8080/"
        },
        "id": "14RyRomnkbAS",
        "outputId": "f0fe112b-43d7-4384-b8ae-8fb8bb63c0f1"
      },
      "execution_count": null,
      "outputs": [
        {
          "output_type": "stream",
          "name": "stdout",
          "text": [
            "Requirement already satisfied: nltk in /usr/local/lib/python3.7/dist-packages (3.2.5)\n",
            "Requirement already satisfied: six in /usr/local/lib/python3.7/dist-packages (from nltk) (1.15.0)\n"
          ]
        }
      ]
    },
    {
      "cell_type": "code",
      "source": [
        "! python -m textblob.download_corpora"
      ],
      "metadata": {
        "colab": {
          "base_uri": "https://localhost:8080/"
        },
        "id": "rGjc7uI2k0Yd",
        "outputId": "7482cae0-92c9-426f-c800-904f28c68d8e"
      },
      "execution_count": null,
      "outputs": [
        {
          "output_type": "stream",
          "name": "stdout",
          "text": [
            "[nltk_data] Downloading package brown to /root/nltk_data...\n",
            "[nltk_data]   Unzipping corpora/brown.zip.\n",
            "[nltk_data] Downloading package punkt to /root/nltk_data...\n",
            "[nltk_data]   Unzipping tokenizers/punkt.zip.\n",
            "[nltk_data] Downloading package wordnet to /root/nltk_data...\n",
            "[nltk_data]   Unzipping corpora/wordnet.zip.\n",
            "[nltk_data] Downloading package averaged_perceptron_tagger to\n",
            "[nltk_data]     /root/nltk_data...\n",
            "[nltk_data]   Unzipping taggers/averaged_perceptron_tagger.zip.\n",
            "[nltk_data] Downloading package conll2000 to /root/nltk_data...\n",
            "[nltk_data]   Unzipping corpora/conll2000.zip.\n",
            "[nltk_data] Downloading package movie_reviews to /root/nltk_data...\n",
            "[nltk_data]   Unzipping corpora/movie_reviews.zip.\n",
            "Finished.\n"
          ]
        }
      ]
    },
    {
      "cell_type": "code",
      "source": [
        "import nltk\n",
        "import csv\n",
        "import collections\n",
        "import pandas as pd\n",
        "\n",
        "from collections import Counter\n",
        "from nltk.corpus import stopwords"
      ],
      "metadata": {
        "id": "RyBLRA-gkiGL"
      },
      "execution_count": null,
      "outputs": []
    },
    {
      "cell_type": "code",
      "execution_count": null,
      "metadata": {
        "colab": {
          "base_uri": "https://localhost:8080/"
        },
        "id": "XRyH-voWkU4P",
        "outputId": "100c7563-1a03-4e32-a2ba-915cf04c61c6"
      },
      "outputs": [
        {
          "output_type": "stream",
          "name": "stdout",
          "text": [
            "[nltk_data] Downloading package stopwords to /root/nltk_data...\n",
            "[nltk_data]   Package stopwords is already up-to-date!\n"
          ]
        }
      ],
      "source": [
        "# extracting offensive language from twitter kaggle data to final_list\n",
        "\n",
        "nltk.download('stopwords')\n",
        "raw_reviews = []\n",
        "reviews_filename = '/content/drive/MyDrive/labeled_data.csv'\n",
        "with open(reviews_filename, 'r') as reviews_csvfile:\n",
        "    csvreader = csv.reader(reviews_csvfile)\n",
        "    next(csvreader)\n",
        "    for i in range(1000): # 10399\n",
        "      row = next(csvreader)\n",
        "      if int(row[3]) != 0:\n",
        "        review = row[-1]\n",
        "        review_arr = review.split(\":\")\n",
        "        raw_reviews.append(review_arr[-1])\n",
        "review_words = []\n",
        "for review in raw_reviews:\n",
        "  review_arr = review.split(\" \")\n",
        "  for review_word in review_arr:\n",
        "    if \"\\\"\" not in review_word and review_word != \"\" and not \"&\" in review_word and review_word != \"-\" and review_word != \"love\" and \"I\" not in review_word and \"'\" not in review_word and review_word != \"got\":\n",
        "      review_words.append(review_word)\n",
        "stop_words = set(stopwords.words('english'))\n",
        "with open('/content/drive/MyDrive/common_words.txt','r') as file:\n",
        "    common_words = file.read()\n",
        "words_list = [word for word in review_words if not word in stop_words and not word in common_words]\n",
        "final_list = []\n",
        "for word in Counter(words_list).most_common(9):\n",
        "  final_list.append(word[0])"
      ]
    },
    {
      "cell_type": "code",
      "source": [
        "# adding reviews to formatted Data Frame\n",
        "\n",
        "raw_reviews = []\n",
        "reviews_filename = '/content/drive/MyDrive/reviews.csv.txt'\n",
        "with open(reviews_filename, 'r') as reviews_csvfile:\n",
        "    csvreader = csv.reader(reviews_csvfile)\n",
        "    next(csvreader)\n",
        "    next(csvreader)\n",
        "    for i in range(10397):\n",
        "      row = next(csvreader)\n",
        "      if (len(row) >= 5):\n",
        "        row.pop(0)\n",
        "        row.pop(-1)\n",
        "        row[2] = ''.join(row[2].split())\n",
        "        if row[2].replace('.', '', 1).isdigit():\n",
        "          row[2] = float(row[2])\n",
        "        row[1] = row[1].rstrip()\n",
        "        if not row[1] == \"\" and isinstance(row[2], float):\n",
        "          raw_reviews.append(row)\n",
        "table = pd.DataFrame(data = raw_reviews, columns = ['ID', 'Comments', 'Recommend'])\n",
        "table"
      ],
      "metadata": {
        "colab": {
          "base_uri": "https://localhost:8080/",
          "height": 424
        },
        "id": "t8AnNFYKlIG8",
        "outputId": "13655392-a094-48a9-83ea-329f6faf077b"
      },
      "execution_count": null,
      "outputs": [
        {
          "output_type": "execute_result",
          "data": {
            "text/html": [
              "\n",
              "  <div id=\"df-a7cace60-a280-4674-b46d-7f5209532ba5\">\n",
              "    <div class=\"colab-df-container\">\n",
              "      <div>\n",
              "<style scoped>\n",
              "    .dataframe tbody tr th:only-of-type {\n",
              "        vertical-align: middle;\n",
              "    }\n",
              "\n",
              "    .dataframe tbody tr th {\n",
              "        vertical-align: top;\n",
              "    }\n",
              "\n",
              "    .dataframe thead th {\n",
              "        text-align: right;\n",
              "    }\n",
              "</style>\n",
              "<table border=\"1\" class=\"dataframe\">\n",
              "  <thead>\n",
              "    <tr style=\"text-align: right;\">\n",
              "      <th></th>\n",
              "      <th>ID</th>\n",
              "      <th>Comments</th>\n",
              "      <th>Recommend</th>\n",
              "    </tr>\n",
              "  </thead>\n",
              "  <tbody>\n",
              "    <tr>\n",
              "      <th>0</th>\n",
              "      <td>38641</td>\n",
              "      <td>Everyone was very helpful and beyond nice!</td>\n",
              "      <td>5.0</td>\n",
              "    </tr>\n",
              "    <tr>\n",
              "      <th>1</th>\n",
              "      <td>38640</td>\n",
              "      <td>My first appointment was amazingly helpful an...</td>\n",
              "      <td>5.0</td>\n",
              "    </tr>\n",
              "    <tr>\n",
              "      <th>2</th>\n",
              "      <td>38638</td>\n",
              "      <td>Dr. Mallo is excellent.</td>\n",
              "      <td>5.0</td>\n",
              "    </tr>\n",
              "    <tr>\n",
              "      <th>3</th>\n",
              "      <td>38635</td>\n",
              "      <td>He is very nice and friendly</td>\n",
              "      <td>5.0</td>\n",
              "    </tr>\n",
              "    <tr>\n",
              "      <th>4</th>\n",
              "      <td>38633</td>\n",
              "      <td>The service is always top notch at Graybill. ...</td>\n",
              "      <td>5.0</td>\n",
              "    </tr>\n",
              "    <tr>\n",
              "      <th>...</th>\n",
              "      <td>...</td>\n",
              "      <td>...</td>\n",
              "      <td>...</td>\n",
              "    </tr>\n",
              "    <tr>\n",
              "      <th>3598</th>\n",
              "      <td>28654</td>\n",
              "      <td>Great knowledgeable service. A clear explanat...</td>\n",
              "      <td>5.0</td>\n",
              "    </tr>\n",
              "    <tr>\n",
              "      <th>3599</th>\n",
              "      <td>28653</td>\n",
              "      <td>Very satisfied. Dr Gadsby took a lot of time ...</td>\n",
              "      <td>5.0</td>\n",
              "    </tr>\n",
              "    <tr>\n",
              "      <th>3600</th>\n",
              "      <td>28651</td>\n",
              "      <td>Satisfied</td>\n",
              "      <td>4.0</td>\n",
              "    </tr>\n",
              "    <tr>\n",
              "      <th>3601</th>\n",
              "      <td>28649</td>\n",
              "      <td>Everything was very good</td>\n",
              "      <td>1.0</td>\n",
              "    </tr>\n",
              "    <tr>\n",
              "      <th>3602</th>\n",
              "      <td>28647</td>\n",
              "      <td>I liked Erin a lot but we always wait so long...</td>\n",
              "      <td>5.0</td>\n",
              "    </tr>\n",
              "  </tbody>\n",
              "</table>\n",
              "<p>3603 rows × 3 columns</p>\n",
              "</div>\n",
              "      <button class=\"colab-df-convert\" onclick=\"convertToInteractive('df-a7cace60-a280-4674-b46d-7f5209532ba5')\"\n",
              "              title=\"Convert this dataframe to an interactive table.\"\n",
              "              style=\"display:none;\">\n",
              "        \n",
              "  <svg xmlns=\"http://www.w3.org/2000/svg\" height=\"24px\"viewBox=\"0 0 24 24\"\n",
              "       width=\"24px\">\n",
              "    <path d=\"M0 0h24v24H0V0z\" fill=\"none\"/>\n",
              "    <path d=\"M18.56 5.44l.94 2.06.94-2.06 2.06-.94-2.06-.94-.94-2.06-.94 2.06-2.06.94zm-11 1L8.5 8.5l.94-2.06 2.06-.94-2.06-.94L8.5 2.5l-.94 2.06-2.06.94zm10 10l.94 2.06.94-2.06 2.06-.94-2.06-.94-.94-2.06-.94 2.06-2.06.94z\"/><path d=\"M17.41 7.96l-1.37-1.37c-.4-.4-.92-.59-1.43-.59-.52 0-1.04.2-1.43.59L10.3 9.45l-7.72 7.72c-.78.78-.78 2.05 0 2.83L4 21.41c.39.39.9.59 1.41.59.51 0 1.02-.2 1.41-.59l7.78-7.78 2.81-2.81c.8-.78.8-2.07 0-2.86zM5.41 20L4 18.59l7.72-7.72 1.47 1.35L5.41 20z\"/>\n",
              "  </svg>\n",
              "      </button>\n",
              "      \n",
              "  <style>\n",
              "    .colab-df-container {\n",
              "      display:flex;\n",
              "      flex-wrap:wrap;\n",
              "      gap: 12px;\n",
              "    }\n",
              "\n",
              "    .colab-df-convert {\n",
              "      background-color: #E8F0FE;\n",
              "      border: none;\n",
              "      border-radius: 50%;\n",
              "      cursor: pointer;\n",
              "      display: none;\n",
              "      fill: #1967D2;\n",
              "      height: 32px;\n",
              "      padding: 0 0 0 0;\n",
              "      width: 32px;\n",
              "    }\n",
              "\n",
              "    .colab-df-convert:hover {\n",
              "      background-color: #E2EBFA;\n",
              "      box-shadow: 0px 1px 2px rgba(60, 64, 67, 0.3), 0px 1px 3px 1px rgba(60, 64, 67, 0.15);\n",
              "      fill: #174EA6;\n",
              "    }\n",
              "\n",
              "    [theme=dark] .colab-df-convert {\n",
              "      background-color: #3B4455;\n",
              "      fill: #D2E3FC;\n",
              "    }\n",
              "\n",
              "    [theme=dark] .colab-df-convert:hover {\n",
              "      background-color: #434B5C;\n",
              "      box-shadow: 0px 1px 3px 1px rgba(0, 0, 0, 0.15);\n",
              "      filter: drop-shadow(0px 1px 2px rgba(0, 0, 0, 0.3));\n",
              "      fill: #FFFFFF;\n",
              "    }\n",
              "  </style>\n",
              "\n",
              "      <script>\n",
              "        const buttonEl =\n",
              "          document.querySelector('#df-a7cace60-a280-4674-b46d-7f5209532ba5 button.colab-df-convert');\n",
              "        buttonEl.style.display =\n",
              "          google.colab.kernel.accessAllowed ? 'block' : 'none';\n",
              "\n",
              "        async function convertToInteractive(key) {\n",
              "          const element = document.querySelector('#df-a7cace60-a280-4674-b46d-7f5209532ba5');\n",
              "          const dataTable =\n",
              "            await google.colab.kernel.invokeFunction('convertToInteractive',\n",
              "                                                     [key], {});\n",
              "          if (!dataTable) return;\n",
              "\n",
              "          const docLinkHtml = 'Like what you see? Visit the ' +\n",
              "            '<a target=\"_blank\" href=https://colab.research.google.com/notebooks/data_table.ipynb>data table notebook</a>'\n",
              "            + ' to learn more about interactive tables.';\n",
              "          element.innerHTML = '';\n",
              "          dataTable['output_type'] = 'display_data';\n",
              "          await google.colab.output.renderOutput(dataTable, element);\n",
              "          const docLink = document.createElement('div');\n",
              "          docLink.innerHTML = docLinkHtml;\n",
              "          element.appendChild(docLink);\n",
              "        }\n",
              "      </script>\n",
              "    </div>\n",
              "  </div>\n",
              "  "
            ],
            "text/plain": [
              "               ID                                           Comments  Recommend\n",
              "0          38641          Everyone was very helpful and beyond nice!        5.0\n",
              "1          38640    My first appointment was amazingly helpful an...        5.0\n",
              "2          38638                             Dr. Mallo is excellent.        5.0\n",
              "3          38635                        He is very nice and friendly        5.0\n",
              "4          38633    The service is always top notch at Graybill. ...        5.0\n",
              "...           ...                                                ...        ...\n",
              "3598       28654    Great knowledgeable service. A clear explanat...        5.0\n",
              "3599       28653    Very satisfied. Dr Gadsby took a lot of time ...        5.0\n",
              "3600       28651                                           Satisfied        4.0\n",
              "3601       28649                            Everything was very good        1.0\n",
              "3602       28647    I liked Erin a lot but we always wait so long...        5.0\n",
              "\n",
              "[3603 rows x 3 columns]"
            ]
          },
          "metadata": {},
          "execution_count": 5
        }
      ]
    },
    {
      "cell_type": "code",
      "source": [
        "# Return flagged comments for human review. In\n",
        "# this case, the comments marked only contain\n",
        "# contain words that are made up of a word in the\n",
        "# dictionary.\n",
        "\n",
        "for col, row in table.iterrows():\n",
        "  curr_review = row['Comments']\n",
        "  for word in final_list:\n",
        "    word = word + \".\"\n",
        "    if word in curr_review:\n",
        "      print(\"offensive lang\")\n",
        "      print(curr_review)"
      ],
      "metadata": {
        "colab": {
          "base_uri": "https://localhost:8080/"
        },
        "id": "9FegpKpvljaF",
        "outputId": "578200cf-cd09-4ee0-d0ec-6a274ef95e63"
      },
      "execution_count": null,
      "outputs": [
        {
          "output_type": "stream",
          "name": "stdout",
          "text": [
            "offensive lang\n",
            " She was very quick and informative.  No bullshit.  You could tell she had a smile even with her mask.  Thanks!\n"
          ]
        }
      ]
    }
  ]
}